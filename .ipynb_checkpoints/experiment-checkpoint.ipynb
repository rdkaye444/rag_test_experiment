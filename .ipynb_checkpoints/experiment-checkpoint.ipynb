{
 "cells": [
  {
   "cell_type": "code",
   "execution_count": 3,
   "id": "d7a7b9cc-3a5f-4d5c-9911-8e94a67d2113",
   "metadata": {},
   "outputs": [],
   "source": [
    "from sentence_transformers import CrossEncoder\n"
   ]
  },
  {
   "cell_type": "code",
   "execution_count": 7,
   "id": "bc13d644-7f31-4753-93f8-66ef76a217af",
   "metadata": {},
   "outputs": [],
   "source": [
    "ranker_model_name = 'cross-encoder/ms-marco-MiniLM-L-6-v2'\n",
    "embedder_model_name = 'all-MiniLM-L6-v2'\n",
    "\n",
    "query = 'Does a mare bear live young?'\n",
    "corpus = ['A horse is a mammal.  Mammals are warm-blooded animals that have fur or hair.  They give birth to live young.', 'A mare is a mammal.']\n",
    "\n",
    "document_ranker = CrossEncoder(ranker_model_name)\n"
   ]
  },
  {
   "cell_type": "code",
   "execution_count": 8,
   "id": "666c7a19-809f-46f9-aff3-f9f983680702",
   "metadata": {},
   "outputs": [
    {
     "data": {
      "text/plain": [
       "[{'corpus_id': 0, 'score': np.float32(-5.9101906)}]"
      ]
     },
     "execution_count": 8,
     "metadata": {},
     "output_type": "execute_result"
    }
   ],
   "source": [
    "document_ranker.rank(query, corpus)"
   ]
  }
 ],
 "metadata": {
  "kernelspec": {
   "display_name": "Python 3 (ipykernel)",
   "language": "python",
   "name": "python3"
  },
  "language_info": {
   "codemirror_mode": {
    "name": "ipython",
    "version": 3
   },
   "file_extension": ".py",
   "mimetype": "text/x-python",
   "name": "python",
   "nbconvert_exporter": "python",
   "pygments_lexer": "ipython3",
   "version": "3.11.13"
  }
 },
 "nbformat": 4,
 "nbformat_minor": 5
}
