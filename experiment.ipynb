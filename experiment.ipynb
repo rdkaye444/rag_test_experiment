{
 "cells": [
  {
   "cell_type": "code",
   "execution_count": 14,
   "id": "d7a7b9cc-3a5f-4d5c-9911-8e94a67d2113",
   "metadata": {},
   "outputs": [],
   "source": [
    "from sentence_transformers import CrossEncoder, SentenceTransformer\n"
   ]
  },
  {
   "cell_type": "code",
   "execution_count": 16,
   "id": "bc13d644-7f31-4753-93f8-66ef76a217af",
   "metadata": {},
   "outputs": [],
   "source": [
    "ranker_model_name = 'cross-encoder/ms-marco-MiniLM-L-6-v2'\n",
    "embedder_model_name = 'all-MiniLM-L6-v2'\n",
    "\n",
    "query = 'Does a mare bear live young?'\n",
    "corpus = ['A horse is a mammal.  Mammals are warm-blooded animals that have fur or hair.  They give birth to live young.', 'A mare is a mammal.']\n",
    "\n",
    "document_ranker = CrossEncoder(ranker_model_name)\n",
    "documment_embedder = SentenceTransformer(embedder_model_name)\n"
   ]
  },
  {
   "cell_type": "code",
   "execution_count": 12,
   "id": "666c7a19-809f-46f9-aff3-f9f983680702",
   "metadata": {},
   "outputs": [
    {
     "data": {
      "text/plain": [
       "[{'corpus_id': 1, 'score': np.float32(-2.3931994)},\n",
       " {'corpus_id': 0, 'score': np.float32(-5.9101896)}]"
      ]
     },
     "execution_count": 12,
     "metadata": {},
     "output_type": "execute_result"
    }
   ],
   "source": [
    "# Reranking with the CrossEncoder does not provide a 'score' I can use to determine symantic similarity\n",
    "# It ranks the corpus against the query but they could all have a terrible match\n",
    "\n",
    "document_ranker.rank(query, corpus)"
   ]
  },
  {
   "cell_type": "code",
   "execution_count": 25,
   "id": "798c0b96-3c9a-43cb-9fc1-87152aa49ad8",
   "metadata": {},
   "outputs": [
    {
     "name": "stdout",
     "output_type": "stream",
     "text": [
      "tensor([[0.4546, 0.6129]])\n"
     ]
    }
   ],
   "source": [
    "# Embedding on the other hand - can give me a score using cosine similarity\n",
    "\n",
    "query_embedding = documment_embedder.encode([query])\n",
    "corpus_embedding = documment_embedder.encode(corpus)\n",
    "\n",
    "print(documment_embedder.similarity(query_embedding, corpus_embedding))\n",
    "\n",
    "# Note that the output of this statement is a list of scores.  The first score is less than the second because of a couple of reasons.\n",
    "# bear is delightfully ambiguous.  It can mean bear - an animal, or bear - to have offspring.  Thus the second answer, which is more clear\n",
    "# Gives a higher score."
   ]
  }
 ],
 "metadata": {
  "kernelspec": {
   "display_name": "Python 3 (ipykernel)",
   "language": "python",
   "name": "python3"
  },
  "language_info": {
   "codemirror_mode": {
    "name": "ipython",
    "version": 3
   },
   "file_extension": ".py",
   "mimetype": "text/x-python",
   "name": "python",
   "nbconvert_exporter": "python",
   "pygments_lexer": "ipython3",
   "version": "3.11.13"
  }
 },
 "nbformat": 4,
 "nbformat_minor": 5
}
